{
 "cells": [
  {
   "cell_type": "code",
   "execution_count": 6,
   "id": "130bf7d3",
   "metadata": {},
   "outputs": [
    {
     "name": "stdout",
     "output_type": "stream",
     "text": [
      "-------------------- df_courses --------------------\n",
      "<class 'pandas.core.frame.DataFrame'>\n",
      "RangeIndex: 50 entries, 0 to 49\n",
      "Data columns (total 5 columns):\n",
      " #   Column             Non-Null Count  Dtype  \n",
      "---  ------             --------------  -----  \n",
      " 0   course_id          50 non-null     int64  \n",
      " 1   course_name        50 non-null     object \n",
      " 2   course_category    50 non-null     object \n",
      " 3   teacher_id         45 non-null     float64\n",
      " 4   course_start_date  50 non-null     object \n",
      "dtypes: float64(1), int64(1), object(3)\n",
      "memory usage: 2.1+ KB\n"
     ]
    },
    {
     "data": {
      "text/plain": [
       "None"
      ]
     },
     "metadata": {},
     "output_type": "display_data"
    },
    {
     "name": "stdout",
     "output_type": "stream",
     "text": [
      "-------------------- df_students --------------------\n",
      "<class 'pandas.core.frame.DataFrame'>\n",
      "RangeIndex: 500 entries, 0 to 499\n",
      "Data columns (total 8 columns):\n",
      " #   Column      Non-Null Count  Dtype  \n",
      "---  ------      --------------  -----  \n",
      " 0   id          500 non-null    int64  \n",
      " 1   first_name  500 non-null    object \n",
      " 2   last_name   500 non-null    object \n",
      " 3   gender      435 non-null    object \n",
      " 4   age         471 non-null    float64\n",
      " 5   city        500 non-null    object \n",
      " 6   education   500 non-null    object \n",
      " 7   email       500 non-null    object \n",
      "dtypes: float64(1), int64(1), object(6)\n",
      "memory usage: 31.4+ KB\n"
     ]
    },
    {
     "data": {
      "text/plain": [
       "None"
      ]
     },
     "metadata": {},
     "output_type": "display_data"
    },
    {
     "name": "stdout",
     "output_type": "stream",
     "text": [
      "-------------------- df_studnet_course --------------------\n",
      "<class 'pandas.core.frame.DataFrame'>\n",
      "RangeIndex: 1000 entries, 0 to 999\n",
      "Data columns (total 4 columns):\n",
      " #   Column       Non-Null Count  Dtype  \n",
      "---  ------       --------------  -----  \n",
      " 0   id           1000 non-null   int64  \n",
      " 1   student_id   1000 non-null   int64  \n",
      " 2   course_id    1000 non-null   int64  \n",
      " 3   final_grade  938 non-null    float64\n",
      "dtypes: float64(1), int64(3)\n",
      "memory usage: 31.4 KB\n"
     ]
    },
    {
     "data": {
      "text/plain": [
       "None"
      ]
     },
     "metadata": {},
     "output_type": "display_data"
    },
    {
     "name": "stdout",
     "output_type": "stream",
     "text": [
      "-------------------- df_teachers --------------------\n",
      "<class 'pandas.core.frame.DataFrame'>\n",
      "RangeIndex: 35 entries, 0 to 34\n",
      "Data columns (total 6 columns):\n",
      " #   Column               Non-Null Count  Dtype  \n",
      "---  ------               --------------  -----  \n",
      " 0   id                   35 non-null     int64  \n",
      " 1   first_name           35 non-null     object \n",
      " 2   last_name            35 non-null     object \n",
      " 3   gender               32 non-null     object \n",
      " 4   years_of_experience  35 non-null     int64  \n",
      " 5   salary               32 non-null     float64\n",
      "dtypes: float64(1), int64(2), object(3)\n",
      "memory usage: 1.8+ KB\n"
     ]
    },
    {
     "data": {
      "text/plain": [
       "None"
      ]
     },
     "metadata": {},
     "output_type": "display_data"
    }
   ],
   "source": [
    "import numpy as np\n",
    "from IPython.display import display\n",
    "import pandas as pd\n",
    "import matplotlib.pyplot as plt\n",
    "\n",
    "# Load the data from CSV files and display their information\n",
    "# we handel the missing values and duplicates in the dataframes in each section\n",
    "print('-' * 20, 'df_courses', '-' * 20)\n",
    "df_courses = pd.read_csv(\"courses.csv\")\n",
    "display(df_courses.info())\n",
    "\n",
    "print('-' * 20, 'df_students', '-' * 20)\n",
    "df_students = pd.read_csv(\"students.csv\")\n",
    "display(df_students.info())\n",
    "\n",
    "print('-' * 20, 'df_studnet_course', '-' * 20)\n",
    "df_studnet_course = pd.read_csv(\"studnet_course.csv\")\n",
    "display(df_studnet_course.info())\n",
    "\n",
    "print('-' * 20, 'df_teachers', '-' * 20)\n",
    "df_teachers = pd.read_csv(\"teachers.csv\")\n",
    "display(df_teachers.info())\n"
   ]
  },
  {
   "cell_type": "code",
   "execution_count": null,
   "id": "d248e340",
   "metadata": {},
   "outputs": [
    {
     "name": "stdout",
     "output_type": "stream",
     "text": [
      "idx_drop\n"
     ]
    },
    {
     "data": {
      "text/plain": [
       "Index([32, 65, 72, 90, 205], dtype='int64')"
      ]
     },
     "metadata": {},
     "output_type": "display_data"
    },
    {
     "data": {
      "text/html": [
       "<div>\n",
       "<style scoped>\n",
       "    .dataframe tbody tr th:only-of-type {\n",
       "        vertical-align: middle;\n",
       "    }\n",
       "\n",
       "    .dataframe tbody tr th {\n",
       "        vertical-align: top;\n",
       "    }\n",
       "\n",
       "    .dataframe thead th {\n",
       "        text-align: right;\n",
       "    }\n",
       "</style>\n",
       "<table border=\"1\" class=\"dataframe\">\n",
       "  <thead>\n",
       "    <tr style=\"text-align: right;\">\n",
       "      <th></th>\n",
       "      <th>id</th>\n",
       "      <th>first_name</th>\n",
       "      <th>last_name</th>\n",
       "      <th>gender</th>\n",
       "      <th>age</th>\n",
       "      <th>city</th>\n",
       "      <th>education</th>\n",
       "      <th>email</th>\n",
       "    </tr>\n",
       "  </thead>\n",
       "  <tbody>\n",
       "    <tr>\n",
       "      <th>0</th>\n",
       "      <td>1</td>\n",
       "      <td>Birgit</td>\n",
       "      <td>Mackriell</td>\n",
       "      <td>Female</td>\n",
       "      <td>15.0</td>\n",
       "      <td>Haifa</td>\n",
       "      <td>No education</td>\n",
       "      <td>bmackriell0@china.com.cn</td>\n",
       "    </tr>\n",
       "    <tr>\n",
       "      <th>1</th>\n",
       "      <td>2</td>\n",
       "      <td>Cristionna</td>\n",
       "      <td>Ferrick</td>\n",
       "      <td>Female</td>\n",
       "      <td>32.0</td>\n",
       "      <td>Bnei Brak</td>\n",
       "      <td>High school</td>\n",
       "      <td>cferrick1@loc.gov</td>\n",
       "    </tr>\n",
       "    <tr>\n",
       "      <th>2</th>\n",
       "      <td>3</td>\n",
       "      <td>Colin</td>\n",
       "      <td>Tite</td>\n",
       "      <td>NaN</td>\n",
       "      <td>NaN</td>\n",
       "      <td>Petah Tikva</td>\n",
       "      <td>High school</td>\n",
       "      <td>ctite2@businessinsider.com</td>\n",
       "    </tr>\n",
       "    <tr>\n",
       "      <th>3</th>\n",
       "      <td>4</td>\n",
       "      <td>Jonis</td>\n",
       "      <td>Iston</td>\n",
       "      <td>Female</td>\n",
       "      <td>40.0</td>\n",
       "      <td>Jerusalem</td>\n",
       "      <td>High school</td>\n",
       "      <td>jiston3@edublogs.org</td>\n",
       "    </tr>\n",
       "    <tr>\n",
       "      <th>4</th>\n",
       "      <td>5</td>\n",
       "      <td>Dex</td>\n",
       "      <td>Goodson</td>\n",
       "      <td>Male</td>\n",
       "      <td>43.0</td>\n",
       "      <td>Haifa</td>\n",
       "      <td>Bachelor's degree</td>\n",
       "      <td>dgoodson4@e-recht24.de</td>\n",
       "    </tr>\n",
       "    <tr>\n",
       "      <th>...</th>\n",
       "      <td>...</td>\n",
       "      <td>...</td>\n",
       "      <td>...</td>\n",
       "      <td>...</td>\n",
       "      <td>...</td>\n",
       "      <td>...</td>\n",
       "      <td>...</td>\n",
       "      <td>...</td>\n",
       "    </tr>\n",
       "    <tr>\n",
       "      <th>490</th>\n",
       "      <td>500</td>\n",
       "      <td>Gillan</td>\n",
       "      <td>Terram</td>\n",
       "      <td>Female</td>\n",
       "      <td>34.0</td>\n",
       "      <td>Haifa</td>\n",
       "      <td>Bachelor's degree</td>\n",
       "      <td>gterramdv@friendfeed.com</td>\n",
       "    </tr>\n",
       "    <tr>\n",
       "      <th>491</th>\n",
       "      <td>27</td>\n",
       "      <td>Kaitlynn</td>\n",
       "      <td>Tansley</td>\n",
       "      <td>Female</td>\n",
       "      <td>39.0</td>\n",
       "      <td>Ashkelon</td>\n",
       "      <td>No education</td>\n",
       "      <td>ktansleyq@soup.io</td>\n",
       "    </tr>\n",
       "    <tr>\n",
       "      <th>492</th>\n",
       "      <td>39</td>\n",
       "      <td>Neil</td>\n",
       "      <td>Lipson</td>\n",
       "      <td>Male</td>\n",
       "      <td>27.0</td>\n",
       "      <td>Ashkelon</td>\n",
       "      <td>High school</td>\n",
       "      <td>nlipson12@foxnews.com</td>\n",
       "    </tr>\n",
       "    <tr>\n",
       "      <th>493</th>\n",
       "      <td>16</td>\n",
       "      <td>Sheffie</td>\n",
       "      <td>Fullom</td>\n",
       "      <td>Male</td>\n",
       "      <td>41.0</td>\n",
       "      <td>Haifa</td>\n",
       "      <td>Bachelor's degree</td>\n",
       "      <td>sfullomf@wp.com</td>\n",
       "    </tr>\n",
       "    <tr>\n",
       "      <th>494</th>\n",
       "      <td>89</td>\n",
       "      <td>Danny</td>\n",
       "      <td>Haythorne</td>\n",
       "      <td>Male</td>\n",
       "      <td>42.0</td>\n",
       "      <td>Tel Aviv</td>\n",
       "      <td>No education</td>\n",
       "      <td>wthirstw@youku.com</td>\n",
       "    </tr>\n",
       "  </tbody>\n",
       "</table>\n",
       "<p>495 rows × 8 columns</p>\n",
       "</div>"
      ],
      "text/plain": [
       "      id  first_name  last_name  gender   age         city          education  \\\n",
       "0      1      Birgit  Mackriell  Female  15.0        Haifa       No education   \n",
       "1      2  Cristionna    Ferrick  Female  32.0    Bnei Brak        High school   \n",
       "2      3       Colin       Tite     NaN   NaN  Petah Tikva        High school   \n",
       "3      4       Jonis      Iston  Female  40.0    Jerusalem        High school   \n",
       "4      5         Dex    Goodson    Male  43.0        Haifa  Bachelor's degree   \n",
       "..   ...         ...        ...     ...   ...          ...                ...   \n",
       "490  500      Gillan     Terram  Female  34.0        Haifa  Bachelor's degree   \n",
       "491   27    Kaitlynn    Tansley  Female  39.0     Ashkelon       No education   \n",
       "492   39        Neil     Lipson    Male  27.0     Ashkelon        High school   \n",
       "493   16     Sheffie     Fullom    Male  41.0        Haifa  Bachelor's degree   \n",
       "494   89       Danny  Haythorne    Male  42.0     Tel Aviv       No education   \n",
       "\n",
       "                          email  \n",
       "0      bmackriell0@china.com.cn  \n",
       "1             cferrick1@loc.gov  \n",
       "2    ctite2@businessinsider.com  \n",
       "3          jiston3@edublogs.org  \n",
       "4        dgoodson4@e-recht24.de  \n",
       "..                          ...  \n",
       "490    gterramdv@friendfeed.com  \n",
       "491           ktansleyq@soup.io  \n",
       "492       nlipson12@foxnews.com  \n",
       "493             sfullomf@wp.com  \n",
       "494          wthirstw@youku.com  \n",
       "\n",
       "[495 rows x 8 columns]"
      ]
     },
     "metadata": {},
     "output_type": "display_data"
    }
   ],
   "source": [
    "# Level 1: Series of all rows with emails duplicate\n",
    "df_dup = df_students[\n",
    "    df_students.groupby('email')['id'].transform('count') > 1\n",
    "].copy()\n",
    "\n",
    "# Level 2: Adding column 'filled_count' to series which counts the number of non-null values in each row\n",
    "df_dup['filled_count'] = df_dup.notnull().sum(axis=1)\n",
    "\n",
    "# Level 3: Find the goodst rows for each email\n",
    "idx_keep = df_dup.groupby('email')['filled_count'].idxmax()\n",
    "\n",
    "# level 3.1 keep the id drop so we can search this id foe replacement in other tables the correct id \n",
    "idx_drop = df_dup.index.difference(idx_keep)\n",
    "print('idx_drop')\n",
    "display(idx_drop)\n",
    "\n",
    "# Level 4: Choose the rows with most non-bull and delete the tempery column 'filled_count'\n",
    "df_clean_dup = df_dup.loc[idx_keep].drop(columns='filled_count')\n",
    "\n",
    "# Level 5: Choose the rows with no duplicates as unique\n",
    "df_unique = df_students[\n",
    "    df_students.groupby('email')['id'].transform('count') == 1\n",
    "].copy()\n",
    "\n",
    "# Level 6: merge the two dataframes\n",
    "df_final = pd.concat([df_unique, df_clean_dup], ignore_index=True)\n",
    "display(df_final)\n"
   ]
  }
 ],
 "metadata": {
  "kernelspec": {
   "display_name": "base",
   "language": "python",
   "name": "python3"
  },
  "language_info": {
   "codemirror_mode": {
    "name": "ipython",
    "version": 3
   },
   "file_extension": ".py",
   "mimetype": "text/x-python",
   "name": "python",
   "nbconvert_exporter": "python",
   "pygments_lexer": "ipython3",
   "version": "3.12.7"
  }
 },
 "nbformat": 4,
 "nbformat_minor": 5
}
