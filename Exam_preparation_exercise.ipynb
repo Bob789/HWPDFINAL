{
 "cells": [
  {
   "cell_type": "code",
   "execution_count": 103,
   "id": "73b420ce",
   "metadata": {},
   "outputs": [
    {
     "name": "stdout",
     "output_type": "stream",
     "text": [
      "-------------------- df_courses --------------------\n",
      "<class 'pandas.core.frame.DataFrame'>\n",
      "RangeIndex: 50 entries, 0 to 49\n",
      "Data columns (total 5 columns):\n",
      " #   Column             Non-Null Count  Dtype  \n",
      "---  ------             --------------  -----  \n",
      " 0   course_id          50 non-null     int64  \n",
      " 1   course_name        50 non-null     object \n",
      " 2   course_category    50 non-null     object \n",
      " 3   teacher_id         45 non-null     float64\n",
      " 4   course_start_date  50 non-null     object \n",
      "dtypes: float64(1), int64(1), object(3)\n",
      "memory usage: 2.1+ KB\n"
     ]
    },
    {
     "data": {
      "text/plain": [
       "None"
      ]
     },
     "metadata": {},
     "output_type": "display_data"
    },
    {
     "name": "stdout",
     "output_type": "stream",
     "text": [
      "<class 'pandas.core.frame.DataFrame'>\n",
      "Index: 45 entries, 0 to 49\n",
      "Data columns (total 5 columns):\n",
      " #   Column             Non-Null Count  Dtype  \n",
      "---  ------             --------------  -----  \n",
      " 0   course_id          45 non-null     int64  \n",
      " 1   course_name        45 non-null     object \n",
      " 2   course_category    45 non-null     object \n",
      " 3   teacher_id         45 non-null     float64\n",
      " 4   course_start_date  45 non-null     object \n",
      "dtypes: float64(1), int64(1), object(3)\n",
      "memory usage: 2.1+ KB\n"
     ]
    },
    {
     "data": {
      "text/plain": [
       "None"
      ]
     },
     "metadata": {},
     "output_type": "display_data"
    },
    {
     "name": "stdout",
     "output_type": "stream",
     "text": [
      "-------------------- df_students --------------------\n",
      "<class 'pandas.core.frame.DataFrame'>\n",
      "RangeIndex: 500 entries, 0 to 499\n",
      "Data columns (total 8 columns):\n",
      " #   Column      Non-Null Count  Dtype  \n",
      "---  ------      --------------  -----  \n",
      " 0   id          500 non-null    int64  \n",
      " 1   first_name  500 non-null    object \n",
      " 2   last_name   500 non-null    object \n",
      " 3   gender      435 non-null    object \n",
      " 4   age         471 non-null    float64\n",
      " 5   city        500 non-null    object \n",
      " 6   education   500 non-null    object \n",
      " 7   email       500 non-null    object \n",
      "dtypes: float64(1), int64(1), object(6)\n",
      "memory usage: 31.4+ KB\n"
     ]
    },
    {
     "data": {
      "text/plain": [
       "None"
      ]
     },
     "metadata": {},
     "output_type": "display_data"
    },
    {
     "name": "stdout",
     "output_type": "stream",
     "text": [
      "<class 'pandas.core.frame.DataFrame'>\n",
      "Index: 411 entries, 0 to 499\n",
      "Data columns (total 8 columns):\n",
      " #   Column      Non-Null Count  Dtype  \n",
      "---  ------      --------------  -----  \n",
      " 0   id          411 non-null    int64  \n",
      " 1   first_name  411 non-null    object \n",
      " 2   last_name   411 non-null    object \n",
      " 3   gender      411 non-null    object \n",
      " 4   age         411 non-null    float64\n",
      " 5   city        411 non-null    object \n",
      " 6   education   411 non-null    object \n",
      " 7   email       411 non-null    object \n",
      "dtypes: float64(1), int64(1), object(6)\n",
      "memory usage: 28.9+ KB\n"
     ]
    },
    {
     "data": {
      "text/plain": [
       "None"
      ]
     },
     "metadata": {},
     "output_type": "display_data"
    },
    {
     "name": "stdout",
     "output_type": "stream",
     "text": [
      "-------------------- df_studnet_course --------------------\n",
      "<class 'pandas.core.frame.DataFrame'>\n",
      "RangeIndex: 1000 entries, 0 to 999\n",
      "Data columns (total 4 columns):\n",
      " #   Column       Non-Null Count  Dtype  \n",
      "---  ------       --------------  -----  \n",
      " 0   id           1000 non-null   int64  \n",
      " 1   student_id   1000 non-null   int64  \n",
      " 2   course_id    1000 non-null   int64  \n",
      " 3   final_grade  938 non-null    float64\n",
      "dtypes: float64(1), int64(3)\n",
      "memory usage: 31.4 KB\n"
     ]
    },
    {
     "data": {
      "text/plain": [
       "None"
      ]
     },
     "metadata": {},
     "output_type": "display_data"
    },
    {
     "name": "stdout",
     "output_type": "stream",
     "text": [
      "<class 'pandas.core.frame.DataFrame'>\n",
      "Index: 938 entries, 0 to 999\n",
      "Data columns (total 4 columns):\n",
      " #   Column       Non-Null Count  Dtype  \n",
      "---  ------       --------------  -----  \n",
      " 0   id           938 non-null    int64  \n",
      " 1   student_id   938 non-null    int64  \n",
      " 2   course_id    938 non-null    int64  \n",
      " 3   final_grade  938 non-null    float64\n",
      "dtypes: float64(1), int64(3)\n",
      "memory usage: 36.6 KB\n"
     ]
    },
    {
     "data": {
      "text/plain": [
       "None"
      ]
     },
     "metadata": {},
     "output_type": "display_data"
    },
    {
     "name": "stdout",
     "output_type": "stream",
     "text": [
      "-------------------- df_teachers --------------------\n",
      "<class 'pandas.core.frame.DataFrame'>\n",
      "RangeIndex: 35 entries, 0 to 34\n",
      "Data columns (total 6 columns):\n",
      " #   Column               Non-Null Count  Dtype  \n",
      "---  ------               --------------  -----  \n",
      " 0   id                   35 non-null     int64  \n",
      " 1   first_name           35 non-null     object \n",
      " 2   last_name            35 non-null     object \n",
      " 3   gender               32 non-null     object \n",
      " 4   years_of_experience  35 non-null     int64  \n",
      " 5   salary               32 non-null     float64\n",
      "dtypes: float64(1), int64(2), object(3)\n",
      "memory usage: 1.8+ KB\n"
     ]
    },
    {
     "data": {
      "text/plain": [
       "None"
      ]
     },
     "metadata": {},
     "output_type": "display_data"
    },
    {
     "name": "stdout",
     "output_type": "stream",
     "text": [
      "<class 'pandas.core.frame.DataFrame'>\n",
      "Index: 29 entries, 0 to 34\n",
      "Data columns (total 6 columns):\n",
      " #   Column               Non-Null Count  Dtype  \n",
      "---  ------               --------------  -----  \n",
      " 0   id                   29 non-null     int64  \n",
      " 1   first_name           29 non-null     object \n",
      " 2   last_name            29 non-null     object \n",
      " 3   gender               29 non-null     object \n",
      " 4   years_of_experience  29 non-null     int64  \n",
      " 5   salary               29 non-null     float64\n",
      "dtypes: float64(1), int64(2), object(3)\n",
      "memory usage: 1.6+ KB\n"
     ]
    },
    {
     "data": {
      "text/plain": [
       "None"
      ]
     },
     "metadata": {},
     "output_type": "display_data"
    }
   ],
   "source": [
    "import numpy as np\n",
    "from IPython.display import display\n",
    "import pandas as pd\n",
    "import matplotlib.pyplot as plt\n",
    "\n",
    "# Load the data from CSV files and display their information\n",
    "# we handel the missing values and duplicates in the dataframes in each section\n",
    "print('-' * 20, 'df_courses', '-' * 20)\n",
    "df_courses = pd.read_csv(\"courses.csv\")\n",
    "display(df_courses.info())\n",
    "df_courses.dropna(inplace=True)\n",
    "df_courses.drop_duplicates(inplace=True)\n",
    "display(df_courses.info())\n",
    "\n",
    "print('-' * 20, 'df_students', '-' * 20)\n",
    "df_students = pd.read_csv(\"students.csv\")\n",
    "display(df_students.info())\n",
    "df_students.dropna(inplace=True)\n",
    "df_students.drop_duplicates(inplace=True)\n",
    "display(df_students.info())\n",
    "\n",
    "print('-' * 20, 'df_studnet_course', '-' * 20)\n",
    "df_studnet_course = pd.read_csv(\"studnet_course.csv\")\n",
    "display(df_studnet_course.info())\n",
    "df_studnet_course.dropna(inplace=True)\n",
    "df_studnet_course.drop_duplicates(inplace=True)\n",
    "display(df_studnet_course.info())\n",
    "\n",
    "print('-' * 20, 'df_teachers', '-' * 20)\n",
    "df_teachers = pd.read_csv(\"teachers.csv\")\n",
    "display(df_teachers.info())\n",
    "df_teachers.dropna(inplace=True)\n",
    "df_teachers.drop_duplicates(inplace=True)\n",
    "display(df_teachers.info())\n"
   ]
  },
  {
   "cell_type": "code",
   "execution_count": 104,
   "id": "9f7b3e31",
   "metadata": {},
   "outputs": [
    {
     "data": {
      "text/html": [
       "<div>\n",
       "<style scoped>\n",
       "    .dataframe tbody tr th:only-of-type {\n",
       "        vertical-align: middle;\n",
       "    }\n",
       "\n",
       "    .dataframe tbody tr th {\n",
       "        vertical-align: top;\n",
       "    }\n",
       "\n",
       "    .dataframe thead th {\n",
       "        text-align: right;\n",
       "    }\n",
       "</style>\n",
       "<table border=\"1\" class=\"dataframe\">\n",
       "  <thead>\n",
       "    <tr style=\"text-align: right;\">\n",
       "      <th></th>\n",
       "      <th>gender</th>\n",
       "      <th>count</th>\n",
       "    </tr>\n",
       "  </thead>\n",
       "  <tbody>\n",
       "    <tr>\n",
       "      <th>0</th>\n",
       "      <td>Male</td>\n",
       "      <td>210</td>\n",
       "    </tr>\n",
       "    <tr>\n",
       "      <th>1</th>\n",
       "      <td>Female</td>\n",
       "      <td>201</td>\n",
       "    </tr>\n",
       "  </tbody>\n",
       "</table>\n",
       "</div>"
      ],
      "text/plain": [
       "   gender  count\n",
       "0    Male    210\n",
       "1  Female    201"
      ]
     },
     "metadata": {},
     "output_type": "display_data"
    },
    {
     "data": {
      "image/png": "[encoded data removed]",
      "text/plain": [
       "<Figure size 600x400 with 1 Axes>"
      ]
     },
     "metadata": {},
     "output_type": "display_data"
    }
   ],
   "source": [
    "# Sol 1. Count how many students there are of each gender in the students.csv table\n",
    "df_students_gender = df_students['gender'].value_counts().reset_index(name='count')\n",
    "display(df_students_gender)\n",
    "\n",
    "# Graph bar chart which shows the number of students of\n",
    "# Data for the bar chart\n",
    "gender_groups = df_students_gender['gender'].tolist()\n",
    "gender_count = df_students_gender['count'].tolist()\n",
    "\n",
    "# Create a Figure and an Axes object\n",
    "# figsize controls the width and height of the plot in inches\n",
    "fig, ax = plt.subplots(figsize=(6, 4))\n",
    "\n",
    "# Create the bar chart on the Axes object\n",
    "# age_groups provides the category labels for the x-axis\n",
    "# students_count provides the height for each bar\n",
    "bars = ax.bar(gender_groups, gender_count, color='skyblue', edgecolor='black')\n",
    "\n",
    "# Add labels to the axes and a title to the plot\n",
    "ax.set_xlabel('Gender', color='blue')\n",
    "ax.set_ylabel('Count', color='blue')\n",
    "ax.set_title('how many students from each gender', color='blue')\n",
    "ax.set_facecolor('azure')  # Optional: Set a background color for the plot\n",
    "\n",
    "# Optional: Add a grid line for the y-axis to help read values\n",
    "ax.grid(axis='y', linestyle='--', alpha=0.7, color='grey')\n",
    "\n",
    "# Optional: Add data labels on top of each bar for clarity\n",
    "for bar in bars:\n",
    "    height = bar.get_height()\n",
    "    # Place text slightly above the bar center\n",
    "    ax.text(bar.get_x() + bar.get_width() / 2.0, height, f'{height}',\n",
    "            ha='center', va='bottom') # ha='center' centers horizontally, va='bottom' places it just above the bar\n",
    "\n",
    "# Adjust layout to prevent labels from overlapping (often useful)\n",
    "plt.tight_layout()\n",
    "\n",
    "# Display the plot\n",
    "plt.show()\n",
    "\n"
   ]
  },
  {
   "cell_type": "code",
   "execution_count": 105,
   "id": "dea1ceeb",
   "metadata": {},
   "outputs": [
    {
     "data": {
      "image/png": "[encoded data removed]",
      "text/plain": [
       "<Figure size 600x500 with 1 Axes>"
      ]
     },
     "metadata": {},
     "output_type": "display_data"
    }
   ],
   "source": [
    "# Sol 2. Create a histogram showing the distribution of the students’ ages\n",
    "# Data for the histogram\n",
    "# age_groups provides the category labels for the x-axis\n",
    "age_groups = df_students['age'].tolist()\n",
    "\n",
    "\n",
    "# Create Figure and two Axes (subplots) side-by-side\n",
    "# figsize determines the overall figure size in inches (width, height)\n",
    "fig, ax = plt.subplots(figsize=(6, 5))\n",
    "\n",
    "# --- First histogram (bins=5) ---\n",
    "# Plot the histogram\n",
    "counts, bins, bars = ax.hist(age_groups, bins=5, color='skyblue', edgecolor='black', label='n=411')\n",
    "# Additional settings for the first plot\n",
    "ax.set_title('Histogram of Age (bins=5)', color='blue') # Title for the first plot\n",
    "ax.set_xlabel('Age', color='blue')                       # X-axis label\n",
    "ax.set_ylabel('Number of Students', color='blue')          # Y-axis label\n",
    "ax.grid(axis='y', alpha=0.75)                # Add horizontal grid lines for readability\n",
    "ax.set_facecolor('azure') # Optional: Set a background color for the plot\n",
    "# Add legend to display labeled elements (the vertical line)\n",
    "ax.legend() # Using axes[0]\n",
    "\n",
    "# Optional: Add data labels on top of each bar for clarity\n",
    "for bar in bars:\n",
    "    height = bar.get_height()\n",
    "    # Place text slightly above the bar center\n",
    "    ax.text(bar.get_x() + bar.get_width() / 2.0, height, f'{height}',\n",
    "            ha='center', va='bottom') # ha='center' centers horizontally, va='bottom' places it just above the bar\n",
    "\n",
    "# Adjust spacing automatically to prevent labels/titles from overlapping\n",
    "plt.tight_layout()\n",
    "\n",
    "# Display the plots\n",
    "plt.show()\n"
   ]
  },
  {
   "cell_type": "code",
   "execution_count": 106,
   "id": "e0c06dee",
   "metadata": {},
   "outputs": [
    {
     "data": {
      "text/html": [
       "<div>\n",
       "<style scoped>\n",
       "    .dataframe tbody tr th:only-of-type {\n",
       "        vertical-align: middle;\n",
       "    }\n",
       "\n",
       "    .dataframe tbody tr th {\n",
       "        vertical-align: top;\n",
       "    }\n",
       "\n",
       "    .dataframe thead th {\n",
       "        text-align: right;\n",
       "    }\n",
       "</style>\n",
       "<table border=\"1\" class=\"dataframe\">\n",
       "  <thead>\n",
       "    <tr style=\"text-align: right;\">\n",
       "      <th></th>\n",
       "      <th>course_category</th>\n",
       "      <th>count</th>\n",
       "    </tr>\n",
       "  </thead>\n",
       "  <tbody>\n",
       "    <tr>\n",
       "      <th>0</th>\n",
       "      <td>Software Development</td>\n",
       "      <td>30</td>\n",
       "    </tr>\n",
       "    <tr>\n",
       "      <th>1</th>\n",
       "      <td>Data Science &amp; Security</td>\n",
       "      <td>8</td>\n",
       "    </tr>\n",
       "    <tr>\n",
       "      <th>2</th>\n",
       "      <td>Product &amp; Business Strategy</td>\n",
       "      <td>7</td>\n",
       "    </tr>\n",
       "  </tbody>\n",
       "</table>\n",
       "</div>"
      ],
      "text/plain": [
       "               course_category  count\n",
       "0         Software Development     30\n",
       "1      Data Science & Security      8\n",
       "2  Product & Business Strategy      7"
      ]
     },
     "metadata": {},
     "output_type": "display_data"
    },
    {
     "data": {
      "image/png": "[encoded data removed]",
      "text/plain": [
       "<Figure size 800x400 with 1 Axes>"
      ]
     },
     "metadata": {},
     "output_type": "display_data"
    }
   ],
   "source": [
    "# Sol 3. How many courses are there in each category in the courses.csv table\n",
    "df_courses_category = df_courses['course_category'].value_counts().reset_index(name='count')\n",
    "display(df_courses_category)\n",
    "\n",
    "# Graph bar chart which shows how many courses are there in each category\n",
    "# Data for the bar chart\n",
    "course_groups = df_courses_category['course_category'].tolist()\n",
    "course_count = df_courses_category['count'].tolist()\n",
    "\n",
    "# Create a Figure and an Axes object\n",
    "# figsize controls the width and height of the plot in inches\n",
    "fig, ax = plt.subplots(figsize=(8, 4))\n",
    "\n",
    "# Create the bar chart on the Axes object\n",
    "# course_groups provides the category labels for the x-axis\n",
    "# course_count provides the height for each bar\n",
    "bars = ax.bar(course_groups, course_count, color='skyblue', edgecolor='black')\n",
    "\n",
    "# Add labels to the axes and a title to the plot\n",
    "ax.set_xlabel('Course', color='blue')\n",
    "ax.set_ylabel('Count', color='blue')\n",
    "ax.set_title('how many courses are there in each category', color='blue')\n",
    "ax.set_facecolor('azure')  # Optional: Set a background color for the plot\n",
    "\n",
    "# Optional: Add a grid line for the y-axis to help read values\n",
    "# Setting axis limits\n",
    "plt.ylim(0, 35)\n",
    "ax.grid(axis='y', linestyle='--', alpha=0.7, color='grey')\n",
    "\n",
    "# Optional: Add data labels on top of each bar for clarity\n",
    "for bar in bars:\n",
    "    height = bar.get_height()\n",
    "    # Place text slightly above the bar center\n",
    "    ax.text(bar.get_x() + bar.get_width() / 2.0, height, f'{height}',\n",
    "            ha='center', va='bottom') # ha='center' centers horizontally, va='bottom' places it just above the bar\n",
    "\n",
    "# Adjust layout to prevent labels from overlapping (often useful)\n",
    "plt.tight_layout()\n",
    "\n",
    "# Display the plot\n",
    "plt.show()\n"
   ]
  },
  {
   "cell_type": "code",
   "execution_count": 107,
   "id": "926b8d68",
   "metadata": {},
   "outputs": [
    {
     "name": "stdout",
     "output_type": "stream",
     "text": [
      "City with most students: Tel Aviv\n",
      "City with fewest students: Rishon LeZion\n"
     ]
    }
   ],
   "source": [
    "# Sol 4. Find the city with the most students and the city with the fewest students in the students.csv table\n",
    "# Hint use idxmax idxmin\n",
    "# Count the number of students in each city and reset the index\n",
    "df_students_city = df_students['city'].value_counts().reset_index(name='count')\n",
    "\n",
    "#get the index of the max and min values in the count column\n",
    "max_row = df_students_city['count'].idxmax()\n",
    "min_row = df_students_city['count'].idxmin()\n",
    "\n",
    "# get the city name from the index of the max and min values\n",
    "city_most = df_students_city.loc[max_row, 'city']\n",
    "city_min = df_students_city.loc[min_row, 'city']\n",
    "\n",
    "print(f\"City with most students: {city_most}\")\n",
    "print(f\"City with fewest students: {city_min}\")\n",
    "\n"
   ]
  },
  {
   "cell_type": "code",
   "execution_count": 108,
   "id": "69bf542d",
   "metadata": {},
   "outputs": [
    {
     "data": {
      "text/html": [
       "<div>\n",
       "<style scoped>\n",
       "    .dataframe tbody tr th:only-of-type {\n",
       "        vertical-align: middle;\n",
       "    }\n",
       "\n",
       "    .dataframe tbody tr th {\n",
       "        vertical-align: top;\n",
       "    }\n",
       "\n",
       "    .dataframe thead th {\n",
       "        text-align: right;\n",
       "    }\n",
       "</style>\n",
       "<table border=\"1\" class=\"dataframe\">\n",
       "  <thead>\n",
       "    <tr style=\"text-align: right;\">\n",
       "      <th></th>\n",
       "      <th>course_id</th>\n",
       "      <th>course_name</th>\n",
       "      <th>course_category</th>\n",
       "      <th>teacher_id</th>\n",
       "      <th>course_start_date</th>\n",
       "    </tr>\n",
       "  </thead>\n",
       "  <tbody>\n",
       "    <tr>\n",
       "      <th>44</th>\n",
       "      <td>45</td>\n",
       "      <td>AI Developer</td>\n",
       "      <td>Software Development</td>\n",
       "      <td>9.0</td>\n",
       "      <td>2023-06-27</td>\n",
       "    </tr>\n",
       "    <tr>\n",
       "      <th>46</th>\n",
       "      <td>47</td>\n",
       "      <td>AI Developer</td>\n",
       "      <td>Software Development</td>\n",
       "      <td>3.0</td>\n",
       "      <td>2023-04-15</td>\n",
       "    </tr>\n",
       "    <tr>\n",
       "      <th>47</th>\n",
       "      <td>48</td>\n",
       "      <td>Product Manager</td>\n",
       "      <td>Product &amp; Business Strategy</td>\n",
       "      <td>2.0</td>\n",
       "      <td>2023-10-17</td>\n",
       "    </tr>\n",
       "    <tr>\n",
       "      <th>48</th>\n",
       "      <td>49</td>\n",
       "      <td>Cyber</td>\n",
       "      <td>Data Science &amp; Security</td>\n",
       "      <td>29.0</td>\n",
       "      <td>2023-03-02</td>\n",
       "    </tr>\n",
       "    <tr>\n",
       "      <th>49</th>\n",
       "      <td>50</td>\n",
       "      <td>Full Stack Developer</td>\n",
       "      <td>Software Development</td>\n",
       "      <td>27.0</td>\n",
       "      <td>2023-09-07</td>\n",
       "    </tr>\n",
       "  </tbody>\n",
       "</table>\n",
       "</div>"
      ],
      "text/plain": [
       "    course_id           course_name              course_category  teacher_id  \\\n",
       "44         45          AI Developer         Software Development         9.0   \n",
       "46         47          AI Developer         Software Development         3.0   \n",
       "47         48       Product Manager  Product & Business Strategy         2.0   \n",
       "48         49                 Cyber      Data Science & Security        29.0   \n",
       "49         50  Full Stack Developer         Software Development        27.0   \n",
       "\n",
       "   course_start_date  \n",
       "44        2023-06-27  \n",
       "46        2023-04-15  \n",
       "47        2023-10-17  \n",
       "48        2023-03-02  \n",
       "49        2023-09-07  "
      ]
     },
     "metadata": {},
     "output_type": "display_data"
    },
    {
     "data": {
      "text/html": [
       "<div>\n",
       "<style scoped>\n",
       "    .dataframe tbody tr th:only-of-type {\n",
       "        vertical-align: middle;\n",
       "    }\n",
       "\n",
       "    .dataframe tbody tr th {\n",
       "        vertical-align: top;\n",
       "    }\n",
       "\n",
       "    .dataframe thead th {\n",
       "        text-align: right;\n",
       "    }\n",
       "</style>\n",
       "<table border=\"1\" class=\"dataframe\">\n",
       "  <thead>\n",
       "    <tr style=\"text-align: right;\">\n",
       "      <th></th>\n",
       "      <th>course_category</th>\n",
       "      <th>course_names</th>\n",
       "    </tr>\n",
       "  </thead>\n",
       "  <tbody>\n",
       "    <tr>\n",
       "      <th>0</th>\n",
       "      <td>Data Science &amp; Security</td>\n",
       "      <td>Cyber</td>\n",
       "    </tr>\n",
       "    <tr>\n",
       "      <th>1</th>\n",
       "      <td>Product &amp; Business Strategy</td>\n",
       "      <td>Product Manager</td>\n",
       "    </tr>\n",
       "    <tr>\n",
       "      <th>2</th>\n",
       "      <td>Software Development</td>\n",
       "      <td>Full Stack Developer\\nAI Developer\\nDevOps Engineer\\nQA</td>\n",
       "    </tr>\n",
       "  </tbody>\n",
       "</table>\n",
       "</div>"
      ],
      "text/plain": [
       "               course_category  \\\n",
       "0      Data Science & Security   \n",
       "1  Product & Business Strategy   \n",
       "2         Software Development   \n",
       "\n",
       "                                              course_names  \n",
       "0                                                    Cyber  \n",
       "1                                          Product Manager  \n",
       "2  Full Stack Developer\\nAI Developer\\nDevOps Engineer\\nQA  "
      ]
     },
     "metadata": {},
     "output_type": "display_data"
    }
   ],
   "source": [
    "# Sol 5. Create a table that displays, for each category, the unique course names belonging to it, use groupby\n",
    "# and apply functions to get the unique course names for each category\n",
    "# Group by course_category and apply a lambda function to get unique course names\n",
    "\n",
    "display(df_courses.tail())\n",
    "\n",
    "df_courses_category_names = (\n",
    "    df_courses\n",
    "      .groupby('course_category')['course_name']\n",
    "      .apply(lambda names: '\\n'.join(names.unique()))\n",
    "      .reset_index(name='course_names')\n",
    ")\n",
    "display(df_courses_category_names)\n",
    "    "
   ]
  }
 ],
 "metadata": {
  "kernelspec": {
   "display_name": "base",
   "language": "python",
   "name": "python3"
  },
  "language_info": {
   "codemirror_mode": {
    "name": "ipython",
    "version": 3
   },
   "file_extension": ".py",
   "mimetype": "text/x-python",
   "name": "python",
   "nbconvert_exporter": "python",
   "pygments_lexer": "ipython3",
   "version": "3.12.7"
  }
 },
 "nbformat": 4,
 "nbformat_minor": 5
}
